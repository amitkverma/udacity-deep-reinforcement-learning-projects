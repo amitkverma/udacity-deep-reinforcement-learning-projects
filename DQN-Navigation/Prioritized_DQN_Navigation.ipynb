{
 "cells": [
  {
   "cell_type": "markdown",
   "metadata": {},
   "source": [
    "# Navigation\n",
    "\n",
    "---\n",
    "\n",
    "In this notebook, you will learn how to use the Unity ML-Agents environment for the first project of the [Deep Reinforcement Learning Nanodegree](https://www.udacity.com/course/deep-reinforcement-learning-nanodegree--nd893).\n",
    "\n",
    "### 1. Start the Environment\n",
    "\n",
    "We begin by importing some necessary packages.  If the code cell below returns an error, please revisit the project instructions to double-check that you have installed [Unity ML-Agents](https://github.com/Unity-Technologies/ml-agents/blob/master/docs/Installation.md) and [NumPy](http://www.numpy.org/)."
   ]
  },
  {
   "cell_type": "code",
   "execution_count": 3,
   "metadata": {},
   "outputs": [],
   "source": [
    "!pip -q install ./python"
   ]
  },
  {
   "cell_type": "code",
   "execution_count": 4,
   "metadata": {},
   "outputs": [],
   "source": [
    "from unityagents import UnityEnvironment\n",
    "import numpy as np\n",
    "import random\n",
    "import torch"
   ]
  },
  {
   "cell_type": "markdown",
   "metadata": {},
   "source": [
    "Next, we will start the environment!  **_Before running the code cell below_**, change the `file_name` parameter to match the location of the Unity environment that you downloaded.\n",
    "\n",
    "- **Mac**: `\"path/to/Banana.app\"`\n",
    "- **Windows** (x86): `\"path/to/Banana_Windows_x86/Banana.exe\"`\n",
    "- **Windows** (x86_64): `\"path/to/Banana_Windows_x86_64/Banana.exe\"`\n",
    "- **Linux** (x86): `\"path/to/Banana_Linux/Banana.x86\"`\n",
    "- **Linux** (x86_64): `\"path/to/Banana_Linux/Banana.x86_64\"`\n",
    "- **Linux** (x86, headless): `\"path/to/Banana_Linux_NoVis/Banana.x86\"`\n",
    "- **Linux** (x86_64, headless): `\"path/to/Banana_Linux_NoVis/Banana.x86_64\"`\n",
    "\n",
    "For instance, if you are using a Mac, then you downloaded `Banana.app`.  If this file is in the same folder as the notebook, then the line below should appear as follows:\n",
    "```\n",
    "env = UnityEnvironment(file_name=\"Banana.app\")\n",
    "```"
   ]
  },
  {
   "cell_type": "code",
   "execution_count": 5,
   "metadata": {},
   "outputs": [
    {
     "name": "stderr",
     "output_type": "stream",
     "text": [
      "INFO:unityagents:\n",
      "'Academy' started successfully!\n",
      "Unity Academy name: Academy\n",
      "        Number of Brains: 1\n",
      "        Number of External Brains : 1\n",
      "        Lesson number : 0\n",
      "        Reset Parameters :\n",
      "\t\t\n",
      "Unity brain name: BananaBrain\n",
      "        Number of Visual Observations (per agent): 0\n",
      "        Vector Observation space type: continuous\n",
      "        Vector Observation space size (per agent): 37\n",
      "        Number of stacked Vector Observation: 1\n",
      "        Vector Action space type: discrete\n",
      "        Vector Action space size (per agent): 4\n",
      "        Vector Action descriptions: , , , \n"
     ]
    }
   ],
   "source": [
    "env = UnityEnvironment(file_name=\"/data/Banana_Linux_NoVis/Banana.x86_64\")"
   ]
  },
  {
   "cell_type": "markdown",
   "metadata": {},
   "source": [
    "Environments contain **_brains_** which are responsible for deciding the actions of their associated agents. Here we check for the first brain available, and set it as the default brain we will be controlling from Python."
   ]
  },
  {
   "cell_type": "code",
   "execution_count": 6,
   "metadata": {},
   "outputs": [],
   "source": [
    "# get the default brain\n",
    "brain_name = env.brain_names[0]\n",
    "brain = env.brains[brain_name]"
   ]
  },
  {
   "cell_type": "code",
   "execution_count": 7,
   "metadata": {},
   "outputs": [],
   "source": [
    "# set random seeds\n",
    "# Seed\n",
    "SEED=1211\n",
    "random.seed(SEED)\n",
    "np.random.seed(SEED)\n",
    "torch.manual_seed(SEED)\n",
    "torch.cuda.manual_seed(SEED)\n",
    "torch.backends.cudnn.deterministic = True\n",
    "\n",
    "# device info\n",
    "device = torch.device(\"cuda:0\" if torch.cuda.is_available() else \"cpu\")"
   ]
  },
  {
   "cell_type": "markdown",
   "metadata": {},
   "source": [
    "### 2. Examine the State and Action Spaces\n",
    "\n",
    "The simulation contains a single agent that navigates a large environment.  At each time step, it has four actions at its disposal:\n",
    "- `0` - walk forward \n",
    "- `1` - walk backward\n",
    "- `2` - turn left\n",
    "- `3` - turn right\n",
    "\n",
    "The state space has `37` dimensions and contains the agent's velocity, along with ray-based perception of objects around agent's forward direction.  A reward of `+1` is provided for collecting a yellow banana, and a reward of `-1` is provided for collecting a blue banana. \n",
    "\n",
    "Run the code cell below to print some information about the environment."
   ]
  },
  {
   "cell_type": "code",
   "execution_count": 8,
   "metadata": {},
   "outputs": [
    {
     "name": "stdout",
     "output_type": "stream",
     "text": [
      "Size of state: 37\n",
      "Size of action: 4\n",
      "Number of agents: 1\n",
      "States look like: [ 1.          0.          0.          0.          0.84408134  0.          0.\n",
      "  1.          0.          0.0748472   0.          1.          0.          0.\n",
      "  0.25755     1.          0.          0.          0.          0.74177343\n",
      "  0.          1.          0.          0.          0.25854847  0.          0.\n",
      "  1.          0.          0.09355672  0.          1.          0.          0.\n",
      "  0.31969345  0.          0.        ]\n"
     ]
    }
   ],
   "source": [
    "# environment details\n",
    "env_info = env.reset(train_mode=True)[brain_name]\n",
    "action_size = brain.vector_action_space_size\n",
    "state = env_info.vector_observations[0]\n",
    "state_size = len(state)\n",
    "print('Size of state:', state_size)\n",
    "print('Size of action:', action_size)\n",
    "# number of agents in the environment\n",
    "print('Number of agents:', len(env_info.agents))\n",
    "# examine the state space \n",
    "print('States look like:', state)"
   ]
  },
  {
   "cell_type": "markdown",
   "metadata": {},
   "source": [
    "### 3. Introduction\n",
    "Prioritized DQN is one of the improvements over Double DQNs.It was first discussed on paper [Prioritized Experience Replay (PER)](https://arxiv.org/abs/1511.05952) which was introduced in 2015 by Tom Schaul. The basic idea is that some experiences may be more important than others for our training, but it might occur less frequently. Because we sample the batch randomly these rich experiences will rarely get selected or no chance to be selected. Hence, we add priority with each experience and sample based on priority.\n",
    "\n",
    "#### 3.1 Revisting the Double DQN algorithm\n",
    "\n",
    "DQN algorithm attempts to find a policy $\\pi$ which maps a given state $s_t$ to an action at such that it maximizes the expected reward of the agent $\\mathbb{E}_{\\pi}\\Big[ \\sum_{t=0}^\\infty r_t \\Big]$ from some starting state $s_0$. DQN obtains $\\pi$ implicitly by calculating a state-value function $Q_θ(s,a)$ parameterized by θ, which measures the goodness of the given state-action with respect to some behavioral policy.\n",
    "\n",
    "To find an appropriate θ, which then determines the final policy $\\pi$, DQN performs the following optimization:\n",
    "\n",
    "<center>\n",
    "$\n",
    "{\\rm minimize}_{\\theta} \\;\\; \\mathbb{E}_{(s_t,a_t,r_t,s_{t+1})\\sim D}\n",
    "\\left[\n",
    "\\Big(r_t + \\gamma \\max_{a \\in \\mathcal{A}} Q_{\\theta^-}(s_{t+1},a) - Q_\\theta(s_t,a_t)\\Big)^2\n",
    "\\right]\n",
    "$\n",
    "</center>\n",
    "\n",
    "\n",
    "where $(s_t,a_t,r_t,s_{t+1})$ are batches of samples from the replay buffer $D$, which is designed to store the past N samples. In addition, $A$ represents the set of discrete actions, θ is the local network and $\\theta^-$ represents the target network. Both networks use the same architecture, and we use $Q_θ(s,a)$ or $Q_{\\theta^-}(s,a)\n",
    "$ to denote which of the two is being applied to evaluate (s,a).\n",
    "\n",
    "The target network starts off by getting matched to the current network, but remains frozen (usually for thousands of steps) before getting updated again to match the network. The process repeats throughout training, with the goal of increasing the stability of the targets $r_t + \\gamma \\max_{a \\in \\mathcal{A}}Q_{\\theta^-}(s_{t+1},a)$.\n",
    "\n",
    "#### 3.2 Temporal difference (or TD) error\n",
    "The difference between the estimated reward at any given state and the actual reward received. The larger the error function, the larger the difference between the expected and actual reward.\n",
    "TD Error for vanilla DQN:\n",
    "\n",
    "<center>\n",
    "$\\delta_i = r_t + \\gamma \\max_{a \\in \\mathcal{A}} Q_{\\theta^-}(s_{t+1},a) -\n",
    "Q_\\theta(s_t,a_t)$\n",
    "</center>\n",
    "\n",
    "and for Double-DQN:\n",
    "\n",
    "<center>\n",
    "$\\delta_i = r_t + \\gamma Q_{\\theta^-}(s_{t+1},{\\rm argmax}_{a \\in \\mathcal{A}}\n",
    "Q_\\theta(s_{t+1},a)) - Q_\\theta(s_t,a_t)$\n",
    "</center>\n",
    "\n",
    "Given the magnitude of the TD error $| \\delta_i |$. We can calculate the priority $p_i$ by adding $\\epsilon$ to TD error magnitude.\n",
    "\n",
    "\n",
    "<center>\n",
    "$p_i = | \\delta_i | + \\epsilon$    \n",
    "</center>\n",
    "\n",
    "where $\\epsilon$ is a small constant ensuring that the sample has some non-zero probability of being drawn.\n",
    "\n",
    "But we can’t do greedy prioritization, because it will lead to always training the same experiences (that have big priority), and then we'll be over-fitting our agent. So, we will use stochastic prioritization, which generates the probability of being chosen for a replay:\n",
    "\n",
    "<center>\n",
    "$P(i) = \\frac{p_i^a}{\\sum_k p_k^a}$\n",
    "</center>\n",
    "\n",
    "Where:\n",
    "- $p_i$ - Priority value\n",
    "- $\\sum_k p_k^a$ - Normalization by all priority values in Replay Buffer\n",
    "- $𝑎$ - Hyperparameter used to reintroduce some randomness in the experience selection for the replay buffer (if a=0 pure randomness, if a=1 only selects the experience with the highest priorities)\n",
    "\n",
    "Now, we can put this priority $P(i)$ in our replay buffer tuple $(s_{t},a_{t},r_{t},s_{t+1}, P(i))$. \n",
    "\n",
    "### Model\n",
    "Fully connected NN layer with 1 hidden layer. "
   ]
  },
  {
   "cell_type": "code",
   "execution_count": 9,
   "metadata": {},
   "outputs": [],
   "source": [
    "import torch\n",
    "import torch.nn as nn\n",
    "import torch.nn.functional as F\n",
    "import torch.autograd as autograd\n",
    "\n",
    "class DQNetwork(nn.Module):\n",
    "    \"\"\" Deep Q-Network \"\"\"\n",
    "    \n",
    "    def __init__(self, state_size, action_size, fc1_size=64, fc2_size=64):\n",
    "        \"\"\"Initialize parameters and fc model.\n",
    "        Params\n",
    "        ======\n",
    "            state_size : Dimension of each state\n",
    "            action_size : Dimension of each action\n",
    "            seed : Random seed\n",
    "            fc1_size : Number of nodes in first hidden layer\n",
    "            fc2_size : Number of nodes in second hidden layer\n",
    "        \"\"\"\n",
    "        super(DQNetwork, self).__init__()\n",
    "        self.fc1 = nn.Linear(state_size, fc1_size)\n",
    "        self.fc2 = nn.Linear(fc1_size, fc2_size)\n",
    "        self.fc3 = nn.Linear(fc2_size, action_size)\n",
    "\n",
    "    def forward(self, state):\n",
    "        x = F.relu(self.fc1(state))\n",
    "        x = F.relu(self.fc2(x))\n",
    "        return self.fc3(x)"
   ]
  },
  {
   "cell_type": "markdown",
   "metadata": {},
   "source": [
    "### 4. Sum Tree\n",
    "\n",
    "According to the paper, when we are using Proportional Prioriziation for $P(i)$ then we should use \"sum-tree\" data structure for storing a pair of transition and $P(i)$. SumTree helps us select some numbers randomly according to their probability.\n",
    "\n"
   ]
  },
  {
   "cell_type": "code",
   "execution_count": 10,
   "metadata": {},
   "outputs": [],
   "source": [
    "import random\n",
    "import numpy\n",
    "from collections import deque\n",
    "\n",
    "class SumTree:\n",
    "    \"\"\" Story data with its priority in the tree \"\"\"\n",
    "    write = 0\n",
    "\n",
    "    def __init__(self, capacity):\n",
    "        \"\"\" We initialize the tree with all nodes = 0, and initialize the data with all values = 0\n",
    "        Params\n",
    "        ======\n",
    "            capacity : for all priority values\n",
    "        \"\"\"\n",
    "        self.capacity = capacity\n",
    "        self.tree = numpy.zeros( 2*capacity - 1 )\n",
    "        self.data = numpy.zeros( capacity, dtype=object )\n",
    "\n",
    "    def _propagate(self, idx, change):\n",
    "        parent = (idx - 1) // 2\n",
    "\n",
    "        self.tree[parent] += change\n",
    "\n",
    "        if parent != 0:\n",
    "            self._propagate(parent, change)\n",
    "\n",
    "    def _retrieve(self, idx, s):\n",
    "        left = 2 * idx + 1\n",
    "        right = left + 1\n",
    "\n",
    "        if left >= len(self.tree):\n",
    "            return idx\n",
    "\n",
    "        if s <= self.tree[left]:\n",
    "            return self._retrieve(left, s)\n",
    "        else:\n",
    "            return self._retrieve(right, s-self.tree[left])\n",
    "\n",
    "    def total(self):\n",
    "        return self.tree[0]\n",
    "\n",
    "    def add(self, p, data):\n",
    "        idx = self.write + self.capacity - 1\n",
    "\n",
    "        self.data[self.write] = data\n",
    "        self.update(idx, p)\n",
    "\n",
    "        self.write += 1\n",
    "        if self.write >= self.capacity:\n",
    "            self.write = 0\n",
    "\n",
    "    def update(self, idx, p):\n",
    "        change = p - self.tree[idx]\n",
    "\n",
    "        self.tree[idx] = p\n",
    "        self._propagate(idx, change)\n",
    "\n",
    "    def get(self, s):\n",
    "        idx = self._retrieve(0, s)\n",
    "        dataIdx = idx - self.capacity + 1\n",
    "\n",
    "        return (idx, self.tree[idx], self.data[dataIdx])\n",
    "    "
   ]
  },
  {
   "cell_type": "markdown",
   "metadata": {},
   "source": [
    "### 5. Prioritized Buffer\n",
    "\n",
    "Since samples that have high priority are more likely to be selected for many time in our training in comparison to low priority experience. So, as a consequence, we will update our weights with only a small portion of experience that we consider to be interesting. To correct this we will use importance sampling weight where we adjust (or reduce). the weight of ofen seen samples.\n",
    "\n",
    "\n",
    "<center>\n",
    "$(\\frac{1}{N} \\times \\frac{1}{P(i)})^b$\n",
    "</center>\n",
    "\n",
    "Where:\n",
    "- 𝑁 - Replay Buffer Size\n",
    "- 𝑃(𝑖) - Sampling probability\n",
    "\n"
   ]
  },
  {
   "cell_type": "code",
   "execution_count": 11,
   "metadata": {},
   "outputs": [],
   "source": [
    "class PrioritizedBuffer:\n",
    "    \"\"\" Samples the batch data according to priority \"\"\"\n",
    "\n",
    "    def __init__(self, max_size, alpha=0.6, beta=0.4):\n",
    "        \"\"\" Initialize the sum_tree and hyperparameters alpha and beta\n",
    "        Params\n",
    "        ======\n",
    "            max_size : for all priority values\n",
    "        \"\"\"\n",
    "        self.sum_tree = SumTree(max_size)\n",
    "        self.alpha = alpha\n",
    "        self.beta = beta\n",
    "        self.current_length = 0\n",
    "\n",
    "    def push(self, state, action, reward, next_state, done):\n",
    "        priority = 1.0 if self.current_length is 0 else self.sum_tree.tree.max()\n",
    "        self.current_length = self.current_length + 1\n",
    "        experience = (state, action, np.array([reward]), next_state, done)\n",
    "        self.sum_tree.add(priority, experience)\n",
    "\n",
    "    def sample(self, batch_size):\n",
    "        batch_idx, batch, IS_weights = [], [], []\n",
    "        segment = self.sum_tree.total() / batch_size\n",
    "        p_sum = self.sum_tree.tree[0]\n",
    "\n",
    "        for i in range(batch_size):\n",
    "            a = segment * i\n",
    "            b = segment * (i + 1)\n",
    "\n",
    "            s = random.uniform(a, b)\n",
    "            idx, p, data = self.sum_tree.get(s)\n",
    "\n",
    "            batch_idx.append(idx)\n",
    "            batch.append(data)\n",
    "            prob = p / p_sum\n",
    "            IS_weight = (self.sum_tree.total() * prob) ** (-self.beta)\n",
    "            IS_weights.append(IS_weight)\n",
    "\n",
    "        state_batch = []\n",
    "        action_batch = []\n",
    "        reward_batch = []\n",
    "        next_state_batch = []\n",
    "        done_batch = []\n",
    "\n",
    "        for transition in batch:\n",
    "            state, action, reward, next_state, done = transition\n",
    "            state_batch.append(state)\n",
    "            action_batch.append(action)\n",
    "            reward_batch.append(reward)\n",
    "            next_state_batch.append(next_state)\n",
    "            done_batch.append(done)\n",
    "\n",
    "        return (state_batch, action_batch, reward_batch, next_state_batch, done_batch), batch_idx, IS_weights\n",
    "\n",
    "    def update_priority(self, idx, td_error):\n",
    "        priority = td_error ** self.alpha\n",
    "        self.sum_tree.update(idx, priority)\n",
    "\n",
    "    def __len__(self):\n",
    "        return self.current_length"
   ]
  },
  {
   "cell_type": "markdown",
   "metadata": {},
   "source": [
    "### 6. Agent\n"
   ]
  },
  {
   "cell_type": "code",
   "execution_count": 12,
   "metadata": {},
   "outputs": [],
   "source": [
    "class PrioritizedDQN:\n",
    "    \"\"\" Prioritized DQN Agent \"\"\"\n",
    "\n",
    "    def __init__(self,state_size, action_size , learning_rate=3e-4, gamma=0.99, buffer_size=10000):\n",
    "        \"\"\" Initialize the sum_tree and hyperparameters alpha and beta\n",
    "        Params\n",
    "        ======\n",
    "            state_size : state size\n",
    "            action_size : action size\n",
    "            learning_rate: learning rate\n",
    "            gamma:  discount factor\n",
    "            buffer_size: replay buffer size\n",
    "        \"\"\"\n",
    "        self.gamma = gamma\n",
    "        self.state_size = state_size\n",
    "        self.action_size = action_size\n",
    "        self.lr = learning_rate\n",
    "\n",
    "        self.replay_buffer = PrioritizedBuffer(buffer_size)\n",
    "        self.device = torch.device(\"cuda\" if torch.cuda.is_available() else \"cpu\")        \n",
    "        self.model = DQNetwork(state_size, action_size).to(self.device)\n",
    "        self.optimizer = torch.optim.Adam(self.model.parameters(), lr=self.lr)\n",
    "        self.MSE_loss = nn.MSELoss()\n",
    "\n",
    "    def act(self, state, eps=0.0):\n",
    "        \"\"\"Returns actions for given state as per current policy.\n",
    "\n",
    "        Params\n",
    "        ======\n",
    "            state (array_like): current state\n",
    "            eps (float): epsilon, for epsilon-greedy action selection\n",
    "        \"\"\"\n",
    "        state = torch.from_numpy(state).float().unsqueeze(0).to(device)\n",
    "        self.model.eval()\n",
    "        with torch.no_grad():\n",
    "            action_values = self.model(state)\n",
    "        self.model.train()\n",
    "\n",
    "        # Epsilon-greedy action selection\n",
    "        if random.random() > eps:\n",
    "            return np.argmax(action_values.cpu().data.numpy())\n",
    "        else:\n",
    "            return random.choice(np.arange(self.action_size))\n",
    "\n",
    "    def _sample(self, batch_size):\n",
    "        \"\"\" Get Samples from replay buffer\n",
    "\n",
    "        Params\n",
    "        ======\n",
    "            batch_size : batch size\n",
    "        \n",
    "        \"\"\"\n",
    "        return self.replay_buffer.sample(batch_size)\n",
    "\n",
    "    def _compute_TDerror(self, batch_size):\n",
    "        transitions, idxs, IS_weights = self._sample(batch_size)\n",
    "        states, actions, rewards, next_states, dones = transitions\n",
    "\n",
    "        states = torch.FloatTensor(states).to(self.device)\n",
    "        actions = torch.LongTensor(actions).to(self.device)\n",
    "        rewards = torch.FloatTensor(rewards).to(self.device)\n",
    "        next_states = torch.FloatTensor(next_states).to(self.device)\n",
    "        dones = torch.FloatTensor(dones).to(self.device)\n",
    "        IS_weights = torch.FloatTensor(IS_weights).to(self.device)\n",
    "\n",
    "        curr_Q = self.model(states).gather(1, actions.unsqueeze(1))\n",
    "        curr_Q = curr_Q.squeeze(1)\n",
    "        next_Q = self.model(next_states)\n",
    "        max_next_Q = torch.max(next_Q, 1)[0]\n",
    "        expected_Q = rewards.squeeze(1) + self.gamma * max_next_Q\n",
    "\n",
    "        td_errors = torch.pow(curr_Q - expected_Q, 2) * IS_weights\n",
    "\n",
    "        return td_errors, idxs\n",
    "\n",
    "    def update(self, batch_size):\n",
    "        td_errors, idxs = self._compute_TDerror(batch_size)\n",
    "\n",
    "        # update model\n",
    "        td_errors_mean = td_errors.mean()\n",
    "        self.optimizer.zero_grad()\n",
    "        td_errors_mean.backward()\n",
    "        self.optimizer.step()\n",
    "\n",
    "        # update priorities\n",
    "        for idx, td_error in zip(idxs, td_errors.cpu().detach().numpy()):\n",
    "            self.replay_buffer.update_priority(idx, td_error)\n",
    "            \n",
    "    \n",
    "    def print(self):\n",
    "        num_parameters = sum([params.numel() for params in self.model.parameters() if params.requires_grad]);\n",
    "        print(self.model)\n",
    "        print(f\"Number of parameters in model : {num_parameters}\")"
   ]
  },
  {
   "cell_type": "markdown",
   "metadata": {},
   "source": [
    "### 7. Initialize Agent"
   ]
  },
  {
   "cell_type": "code",
   "execution_count": 13,
   "metadata": {},
   "outputs": [
    {
     "name": "stdout",
     "output_type": "stream",
     "text": [
      "DQNetwork(\n",
      "  (fc1): Linear(in_features=37, out_features=64, bias=True)\n",
      "  (fc2): Linear(in_features=64, out_features=64, bias=True)\n",
      "  (fc3): Linear(in_features=64, out_features=4, bias=True)\n",
      ")\n",
      "Number of parameters in model : 6852\n"
     ]
    }
   ],
   "source": [
    "# Hyperparameters\n",
    "BUFFER_SIZE = int(1e5)  # replay buffer size\n",
    "GAMMA = 0.99            # discount factor\n",
    "LR = 5e-3               # learning rate \n",
    "BATCH_SIZE = 64         # minibatch size\n",
    "max_t = 500\n",
    "eps_start=1.0\n",
    "eps_decay=.995\n",
    "eps_min=0.05\n",
    "n_episodes = 1000\n",
    "\n",
    "agent = PrioritizedDQN(state_size, action_size)\n",
    "agent.print()"
   ]
  },
  {
   "cell_type": "markdown",
   "metadata": {},
   "source": [
    "### 8. Train"
   ]
  },
  {
   "cell_type": "code",
   "execution_count": 14,
   "metadata": {},
   "outputs": [],
   "source": [
    "def train(agent, n_episodes, max_t, eps_start, eps_min, eps_decay):\n",
    "\n",
    "    scores = []                                               # list containing scores from each episode                 \n",
    "    scores_window = deque(maxlen=100)                         # store only the last 100 scores\n",
    "    eps = eps_start                                           # initialize epsilon (for epsilon-greedy policy)\n",
    "    \n",
    "    for i_episode in range(1, n_episodes + 1):\n",
    "        env_info = env.reset(train_mode=True)[brain_name]     # reset the environment\n",
    "        state = env_info.vector_observations[0]               # get the initial state\n",
    "        score = 0                                             # initialize the score\n",
    "\n",
    "        for t in range(max_t):                                # run for maximum of max_t timesteps \n",
    "            action = agent.act(state, eps)                    # select the action\n",
    "            env_info = env.step(action)[brain_name] \n",
    "            next_state = env_info.vector_observations[0]      # get the state\n",
    "            reward = env_info.rewards[0]                      # get the reward\n",
    "            done = env_info.local_done[0]                     # whether the episode is complete or not\n",
    "            agent.replay_buffer.push(state, action, reward, next_state, done)\n",
    "            score += reward\n",
    "\n",
    "            if len(agent.replay_buffer) > BATCH_SIZE:\n",
    "                agent.update(BATCH_SIZE)   \n",
    "\n",
    "            if done or t == max_t-1:\n",
    "                scores.append(score)\n",
    "                break\n",
    "\n",
    "            state = next_state\n",
    "\n",
    "        scores_window.append(score)                # update the window of scores\n",
    "        scores.append(score)                       # update the list of scores\n",
    "        eps = max(eps_min, eps * eps_decay)        # modify epsilon\n",
    "        average_score = np.mean(scores_window)\n",
    "        print('\\rEpisode {} \\tAverage score: {: .2f}'.format(i_episode, average_score), end=\"\")\n",
    "        \n",
    "        if i_episode % 100 == 0:\n",
    "            print('\\rEpisode {} \\tAverage score: {: .2f}'.format(i_episode, average_score))            \n",
    "            \n",
    "    return scores"
   ]
  },
  {
   "cell_type": "markdown",
   "metadata": {},
   "source": [
    "### 9. Start training"
   ]
  },
  {
   "cell_type": "code",
   "execution_count": 15,
   "metadata": {},
   "outputs": [
    {
     "name": "stdout",
     "output_type": "stream",
     "text": [
      "Episode 100 \tAverage score:  0.07\n",
      "Episode 200 \tAverage score:  1.07\n",
      "Episode 300 \tAverage score:  1.37\n",
      "Episode 400 \tAverage score:  2.00\n",
      "Episode 500 \tAverage score:  2.21\n",
      "Episode 600 \tAverage score:  3.80\n",
      "Episode 700 \tAverage score:  1.52\n",
      "Episode 800 \tAverage score:  3.07\n",
      "Episode 900 \tAverage score:  2.11\n",
      "Episode 1000 \tAverage score:  2.14\n"
     ]
    },
    {
     "data": {
      "image/png": "[encoded data removed]",
      "text/plain": [
       "<matplotlib.figure.Figure at 0x7f7b880e6cc0>"
      ]
     },
     "metadata": {
      "needs_background": "light"
     },
     "output_type": "display_data"
    }
   ],
   "source": [
    "# train the model\n",
    "scores = train(agent, n_episodes, max_t, eps_start, eps_min, eps_decay)\n",
    "# save model\n",
    "torch.save(agent.model.state_dict(), 'checkpoint/prioritize_dqn.pth')\n",
    "\n",
    "import matplotlib.pyplot as plt\n",
    "%matplotlib inline\n",
    "# plot the scores\n",
    "fig = plt.figure()\n",
    "ax = fig.add_subplot(111)\n",
    "plt.plot(np.arange(len(scores)), scores)\n",
    "plt.ylabel('Score')\n",
    "plt.xlabel('Episode #')\n",
    "plt.savefig('results/prioritize_dqn_result.png', bbox_inches='tight')\n",
    "plt.show()"
   ]
  },
  {
   "cell_type": "markdown",
   "metadata": {},
   "source": [
    "### 10. Model in action"
   ]
  },
  {
   "cell_type": "code",
   "execution_count": 20,
   "metadata": {},
   "outputs": [
    {
     "name": "stdout",
     "output_type": "stream",
     "text": [
      "Score: 0.0\n"
     ]
    }
   ],
   "source": [
    "agent.model.load_state_dict(torch.load('checkpoint/prioritize_dqn.pth'))\n",
    "env_info = env.reset(train_mode=False)[brain_name] # reset the environment\n",
    "state = env_info.vector_observations[0]            # get the current state\n",
    "score = 0                                          # initialize the score\n",
    "while True:\n",
    "    action = agent.act(state)                      # select an action\n",
    "    env_info = env.step(action)[brain_name]        # send the action to the environment\n",
    "    next_state = env_info.vector_observations[0]   # get the next state\n",
    "    reward = env_info.rewards[0]                   # get the reward\n",
    "    done = env_info.local_done[0]                  # see if episode has finished\n",
    "    score += reward                                # update the score\n",
    "    state = next_state                             # roll over the state to next time step\n",
    "    if done:                                       # exit loop if episode finished\n",
    "        break\n",
    "    \n",
    "print(\"Score: {}\".format(score))"
   ]
  },
  {
   "cell_type": "code",
   "execution_count": 18,
   "metadata": {},
   "outputs": [],
   "source": [
    "env.close()"
   ]
  },
  {
   "cell_type": "code",
   "execution_count": null,
   "metadata": {},
   "outputs": [],
   "source": []
  }
 ],
 "metadata": {
  "kernelspec": {
   "display_name": "Python 3",
   "language": "python",
   "name": "python3"
  },
  "language_info": {
   "codemirror_mode": {
    "name": "ipython",
    "version": 3
   },
   "file_extension": ".py",
   "mimetype": "text/x-python",
   "name": "python",
   "nbconvert_exporter": "python",
   "pygments_lexer": "ipython3",
   "version": "3.8.5"
  }
 },
 "nbformat": 4,
 "nbformat_minor": 4
}
